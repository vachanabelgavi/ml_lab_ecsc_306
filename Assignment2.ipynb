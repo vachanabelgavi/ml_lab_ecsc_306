{
 "cells": [
  {
   "cell_type": "code",
   "execution_count": 13,
   "metadata": {},
   "outputs": [
    {
     "name": "stdout",
     "output_type": "stream",
     "text": [
      "[6.75, 4.6875]\n",
      "[18.5, 74.25]\n"
     ]
    }
   ],
   "source": [
    "import tensorflow as tf\n",
    "\n",
    "\n",
    "arr1=tf.constant([10.,11.,22.,31)\n",
    "arr2=tf.constant([4.,6.,10.,7.])\n",
    "\n",
    "##res=tf.reduce_mean(arr2)\n",
    "mean2,variance2=tf.nn.moments(arr2,[0])\n",
    "\n",
    "m1,v1=tf.nn.moments(arr1,[0])\n",
    "\n",
    "sess=tf.S()\n",
    "print(sess.run([mean2,variance2]))\n",
    "print(sess.run([m1,v1]))"
   ]
  },
  {
   "cell_type": "code",
   "execution_count": 14,
   "metadata": {},
   "outputs": [
    {
     "ename": "TypeError",
     "evalue": "object of type 'Tensor' has no len()",
     "output_type": "error",
     "traceback": [
      "\u001b[1;31m---------------------------------------------------------------------------\u001b[0m",
      "\u001b[1;31mTypeError\u001b[0m                                 Traceback (most recent call last)",
      "\u001b[1;32m<ipython-input-14-26fa06d75e1d>\u001b[0m in \u001b[0;36m<module>\u001b[1;34m()\u001b[0m\n\u001b[1;32m----> 1\u001b[1;33m \u001b[1;32mfor\u001b[0m \u001b[0mi\u001b[0m \u001b[1;32min\u001b[0m \u001b[0mrange\u001b[0m\u001b[1;33m(\u001b[0m\u001b[1;36m0\u001b[0m\u001b[1;33m,\u001b[0m \u001b[0mlen\u001b[0m\u001b[1;33m(\u001b[0m\u001b[0marr2\u001b[0m\u001b[1;33m)\u001b[0m\u001b[1;33m)\u001b[0m\u001b[1;33m:\u001b[0m\u001b[1;33m\u001b[0m\u001b[0m\n\u001b[0m\u001b[0;32m      2\u001b[0m     \u001b[0msum\u001b[0m \u001b[1;33m+=\u001b[0m \u001b[1;33m(\u001b[0m\u001b[1;33m(\u001b[0m\u001b[0marr1\u001b[0m\u001b[1;33m[\u001b[0m\u001b[0mi\u001b[0m\u001b[1;33m]\u001b[0m \u001b[1;33m-\u001b[0m \u001b[0mm1\u001b[0m\u001b[1;33m)\u001b[0m \u001b[1;33m*\u001b[0m \u001b[1;33m(\u001b[0m\u001b[0marr2\u001b[0m\u001b[1;33m[\u001b[0m\u001b[0mi\u001b[0m\u001b[1;33m]\u001b[0m \u001b[1;33m-\u001b[0m \u001b[0mmean2\u001b[0m\u001b[1;33m)\u001b[0m\u001b[1;33m)\u001b[0m\u001b[1;33m\u001b[0m\u001b[0m\n\u001b[0;32m      3\u001b[0m \u001b[0mprint\u001b[0m\u001b[1;33m(\u001b[0m\u001b[0msess\u001b[0m\u001b[1;33m.\u001b[0m\u001b[0mrun\u001b[0m\u001b[1;33m(\u001b[0m\u001b[0msum\u001b[0m\u001b[1;33m)\u001b[0m\u001b[1;33m)\u001b[0m\u001b[1;33m\u001b[0m\u001b[0m\n",
      "\u001b[1;31mTypeError\u001b[0m: object of type 'Tensor' has no len()"
     ]
    }
   ],
   "source": [
    "for i in range(0, len(arr2)):\n",
    "    sum += ((arr1[i] - m1) * (arr2[i] - mean2))\n",
    "print(sess.run(sum))"
   ]
  },
  {
   "cell_type": "code",
   "execution_count": 29,
   "metadata": {},
   "outputs": [
    {
     "name": "stdout",
     "output_type": "stream",
     "text": [
      "[18.5, 74.25]\n",
      "[6.75, 4.6875]\n"
     ]
    }
   ],
   "source": [
    "import tensorflow as tf\n",
    "a=[10.,11.,22.,31.]\n",
    "b=[4.,6.,10.,7.]\n",
    "\n",
    "arr1=tf.constant([10.,11.,22.,31.])\n",
    "arr2=tf.constant([4.,6.,10.,7.])\n",
    "\n",
    "##res=tf.reduce_mean(arr2)\n",
    "m1,v1=tf.nn.moments(arr1,[0])\n",
    "m2,v2=tf.nn.moments(arr2,[0])\n",
    "\n",
    "sess=tf.Session()\n",
    "print(sess.run([m1,v1]))\n",
    "print(sess.run([m2,v2]))"
   ]
  },
  {
   "cell_type": "code",
   "execution_count": 30,
   "metadata": {},
   "outputs": [
    {
     "name": "stdout",
     "output_type": "stream",
     "text": [
      "43.5\n"
     ]
    }
   ],
   "source": [
    "cov=0\n",
    "for i in range(0, len(b)):\n",
    "    cov += ((a[i] - m1) * (b[i] - mean2))\n",
    "print(sess.run(cov))"
   ]
  },
  {
   "cell_type": "code",
   "execution_count": 33,
   "metadata": {},
   "outputs": [
    {
     "name": "stdout",
     "output_type": "stream",
     "text": [
      "0.585859\n"
     ]
    }
   ],
   "source": [
    "c=tf.div(cov,v1,)\n",
    "print(sess.run(c))"
   ]
  },
  {
   "cell_type": "code",
   "execution_count": 34,
   "metadata": {},
   "outputs": [
    {
     "name": "stdout",
     "output_type": "stream",
     "text": [
      "-4.08838\n"
     ]
    }
   ],
   "source": [
    "cal=tf.multiply(c,m1)\n",
    "m=tf.subtract(m2,cal)\n",
    "print(sess.run(m))"
   ]
  },
  {
   "cell_type": "code",
   "execution_count": 38,
   "metadata": {},
   "outputs": [
    {
     "name": "stdout",
     "output_type": "stream",
     "text": [
      "-4.08838\n"
     ]
    }
   ],
   "source": [
    "with tf.name_scope(\"MyOperationGroup\"):\n",
    "    with tf.name_scope(\"Calculation_c\"):\n",
    "        cf=tf.div(cov,v1,name=\"Division\")\n",
    "    with tf.name_scope(\"Calculation_m\"):\n",
    "        ml=tf.multiply(cf,m1,name=\"Multiplication_of_these\")\n",
    "        mm=tf.subtract(m2,ml,name=\"Subtraction\")\n",
    "\n",
    "with tf.Session() as sess:\n",
    "    writer = tf.summary.FileWriter(\"/tmp/tboard/output6\", sess.graph)\n",
    "    print(sess.run(mm))\n",
    "    writer.close()"
   ]
  },
  {
   "cell_type": "code",
   "execution_count": null,
   "metadata": {
    "collapsed": true
   },
   "outputs": [],
   "source": []
  }
 ],
 "metadata": {
  "kernelspec": {
   "display_name": "Python 3",
   "language": "python",
   "name": "python3"
  },
  "language_info": {
   "codemirror_mode": {
    "name": "ipython",
    "version": 3
   },
   "file_extension": ".py",
   "mimetype": "text/x-python",
   "name": "python",
   "nbconvert_exporter": "python",
   "pygments_lexer": "ipython3",
   "version": "3.5.4"
  }
 },
 "nbformat": 4,
 "nbformat_minor": 2
}
