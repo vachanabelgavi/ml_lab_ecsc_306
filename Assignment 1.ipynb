{
 "cells": [
  {
   "cell_type": "code",
   "execution_count": 7,
   "metadata": {},
   "outputs": [
    {
     "name": "stdout",
     "output_type": "stream",
     "text": [
      "36\n"
     ]
    }
   ],
   "source": [
    "import tensorflow as tf\n",
    "with tf.name_scope(\"MyOperationGroup\"):\n",
    "    with tf.name_scope(\"Scope_A\"):\n",
    "        a = tf.multiply(2,2, name=\"Multiply_these_numbers\")\n",
    "        b = tf.multiply(4, 4)\n",
    "    with tf.name_scope(\"Scope_B\"):\n",
    "        c = tf.multiply(2, 2, name=\"Multiply_These_ones\")\n",
    "        d = tf.multiply(c, 4, name=\"Multiply_these_numbers\")\n",
    "\n",
    "    with tf.name_scope(\"Scope_C\"):\n",
    "    ##e = tf.multiply(4, 5, name=\"B_add\")\n",
    "        f = tf.add(a, b, name=\"A_B_add\")\n",
    "        g = tf.add(f, d)\n",
    "##h = tf.multiply(g, f)\n",
    "\n",
    "\n",
    "with tf.Session() as sess:\n",
    "    writer = tf.summary.FileWriter(\"/tmp/tboard/output3\", sess.graph)\n",
    "    print(sess.run(g))\n",
    "    writer.close()"
   ]
  },
  {
   "cell_type": "code",
   "execution_count": 12,
   "metadata": {},
   "outputs": [
    {
     "name": "stdout",
     "output_type": "stream",
     "text": [
      "-22\n"
     ]
    }
   ],
   "source": [
    "import tensorflow as tf\n",
    "with tf.name_scope(\"MyOperationGroup\"):\n",
    "    with tf.name_scope(\"Scope_A\"):\n",
    "        a = tf.multiply(2,2, name=\"Multiply_these_numbers\")\n",
    "        b = tf.multiply(a, 2)\n",
    "    with tf.name_scope(\"Scope_B\"):\n",
    "        c = tf.multiply(3, 3, name=\"Multiply_These_ones\")\n",
    "        d = tf.multiply(c, 3, name=\"Multiply_these_numbers\")\n",
    "\n",
    "    with tf.name_scope(\"Scope_C\"):\n",
    "        e = tf.multiply(3, 2, name=\"B_add\")\n",
    "        f = tf.multiply(e, 3, name=\"B_mul\")\n",
    "        g = tf.subtract(2, 3)\n",
    "        h = tf.multiply(g, f)\n",
    "with tf.name_scope(\"Scope_D\"):\n",
    "    i=tf.subtract(a,b,)\n",
    "    j=tf.add(i,h)\n",
    "\n",
    "with tf.Session() as sess:\n",
    "    writer = tf.summary.FileWriter(\"/tmp/tboard/output4\", sess.graph)\n",
    "    print(sess.run(j))\n",
    "    writer.close()"
   ]
  },
  {
   "cell_type": "code",
   "execution_count": null,
   "metadata": {
    "collapsed": true
   },
   "outputs": [],
   "source": []
  }
 ],
 "metadata": {
  "kernelspec": {
   "display_name": "Python 3",
   "language": "python",
   "name": "python3"
  },
  "language_info": {
   "codemirror_mode": {
    "name": "ipython",
    "version": 3
   },
   "file_extension": ".py",
   "mimetype": "text/x-python",
   "name": "python",
   "nbconvert_exporter": "python",
   "pygments_lexer": "ipython3",
   "version": "3.5.4"
  }
 },
 "nbformat": 4,
 "nbformat_minor": 2
}
